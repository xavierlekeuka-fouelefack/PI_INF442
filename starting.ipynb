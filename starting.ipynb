{
 "cells": [
  {
   "cell_type": "code",
   "execution_count": 153,
   "metadata": {},
   "outputs": [],
   "source": [
    "import json\n",
    "import numpy as numpy\n",
    "import pandas as pd\n",
    "import matplotlib.pyplot as plt\n",
    "import sqlite3 #try it soft with querries\n",
    "import datetime\n",
    "\n",
    "%matplotlib inline"
   ]
  },
  {
   "cell_type": "code",
   "execution_count": 56,
   "metadata": {},
   "outputs": [],
   "source": [
    "## Building dataset ( to be completed)\n",
    "weather_data = {}\n",
    "for i in [7,8,9,10]:\n",
    "    dataset = pd.DataFrame()\n",
    "    for j in range(1,13):\n",
    "        fname = \"data/weather/synop.20{:02d}{:02d}.csv\".format(i,j)\n",
    "        df = pd.read_csv(fname, delimiter = ';')\n",
    "        df_orly = df.loc[df[\"numer_sta\"]==7149].copy()  ##Save only orly's data\n",
    "        dataset = pd.concat([dataset,df_orly]).reset_index(drop = True)\n",
    "    weather_data[\"20{:02d}\".format(i)] = dataset"
   ]
  },
  {
   "cell_type": "code",
   "execution_count": 147,
   "metadata": {},
   "outputs": [],
   "source": [
    "### Household Consumption data\n",
    "power_data = {}\n",
    "columns = ['date','time','global_active_power','global_reactive_power','voltage','global_intensity','sub_metering_1','sub_metering_2','sub_metering_3']\n",
    "for i in [7,8,9,10]:\n",
    "    fname = \"data\\household_power_consumption\\household_power_consumption_20{:02d}.csv\".format(i)\n",
    "    df = pd.read_csv(fname, sep = \";\",names = columns, na_values=['?'])\n",
    "    power_data[\"20{:02d}\".format(i)] = df\n",
    "    "
   ]
  },
  {
   "cell_type": "code",
   "execution_count": 137,
   "metadata": {},
   "outputs": [],
   "source": [
    "## Soft try with SQL\n",
    "df = dataset.copy(deep = True)\n",
    "conn = sqlite3.connect(':memory:')\n",
    "df.to_sql('ma_table', conn, if_exists = 'replace', index = False)\n",
    "cur = conn.cursor()\n",
    "\n",
    "querry = \"\"\"\n",
    "        SELECT * \n",
    "        FROM ma_table \n",
    "        WHERE numer_sta == 7149;\n",
    "        \"\"\"\n",
    "cur.execute(querry)\n",
    "\n",
    "results = cur.fetchall()\n",
    "\n",
    "dfs = pd.DataFrame(results, columns=[column[0] for column in cur.description])\n"
   ]
  },
  {
   "cell_type": "code",
   "execution_count": 149,
   "metadata": {},
   "outputs": [],
   "source": [
    "data = power_data['2007'].copy(deep = True)"
   ]
  },
  {
   "cell_type": "code",
   "execution_count": 143,
   "metadata": {},
   "outputs": [
    {
     "name": "stderr",
     "output_type": "stream",
     "text": [
      "C:\\Users\\HP\\AppData\\Local\\Temp\\ipykernel_23948\\736794659.py:1: UserWarning: Parsing dates in DD/MM/YYYY format when dayfirst=False (the default) was specified. This may lead to inconsistently parsed dates! Specify a format to ensure consistent parsing.\n",
      "  data['date'] = pd.to_datetime(data['date'])\n"
     ]
    }
   ],
   "source": [
    "data['date'] = pd.to_datetime(data['date'])"
   ]
  },
  {
   "cell_type": "code",
   "execution_count": 144,
   "metadata": {},
   "outputs": [
    {
     "data": {
      "text/plain": [
       "0        2007-01-01\n",
       "1        2007-01-01\n",
       "2        2007-01-01\n",
       "3        2007-01-01\n",
       "4        2007-01-01\n",
       "            ...    \n",
       "525595   2007-12-31\n",
       "525596   2007-12-31\n",
       "525597   2007-12-31\n",
       "525598   2007-12-31\n",
       "525599   2007-12-31\n",
       "Name: date, Length: 525600, dtype: datetime64[ns]"
      ]
     },
     "execution_count": 144,
     "metadata": {},
     "output_type": "execute_result"
    }
   ],
   "source": [
    "data['date']"
   ]
  },
  {
   "cell_type": "code",
   "execution_count": 152,
   "metadata": {},
   "outputs": [
    {
     "data": {
      "text/plain": [
       "date                     0.000000\n",
       "time                     0.000000\n",
       "global_active_power      0.007479\n",
       "global_reactive_power    0.007479\n",
       "voltage                  0.007479\n",
       "global_intensity         0.007479\n",
       "sub_metering_1           0.007479\n",
       "sub_metering_2           0.007479\n",
       "sub_metering_3           0.007479\n",
       "dtype: float64"
      ]
     },
     "execution_count": 152,
     "metadata": {},
     "output_type": "execute_result"
    }
   ],
   "source": [
    "data.isnull().mean()"
   ]
  },
  {
   "cell_type": "code",
   "execution_count": null,
   "metadata": {},
   "outputs": [],
   "source": []
  }
 ],
 "metadata": {
  "kernelspec": {
   "display_name": "Python 3",
   "language": "python",
   "name": "python3"
  },
  "language_info": {
   "codemirror_mode": {
    "name": "ipython",
    "version": 3
   },
   "file_extension": ".py",
   "mimetype": "text/x-python",
   "name": "python",
   "nbconvert_exporter": "python",
   "pygments_lexer": "ipython3",
   "version": "3.9.13"
  },
  "orig_nbformat": 4
 },
 "nbformat": 4,
 "nbformat_minor": 2
}
